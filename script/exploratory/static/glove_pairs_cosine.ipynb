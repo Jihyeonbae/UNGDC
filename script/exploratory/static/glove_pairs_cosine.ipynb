{
 "cells": [
  {
   "cell_type": "markdown",
   "metadata": {},
   "source": [
    "Use this code to generate \"liwc_meta_with_keyword_distances.csv\" used for regression analysis. \n"
   ]
  },
  {
   "cell_type": "markdown",
   "metadata": {},
   "source": []
  },
  {
   "cell_type": "code",
   "execution_count": 1,
   "metadata": {},
   "outputs": [
    {
     "ename": "NameError",
     "evalue": "name 'embeddings' is not defined",
     "output_type": "error",
     "traceback": [
      "\u001b[0;31m---------------------------------------------------------------------------\u001b[0m",
      "\u001b[0;31mNameError\u001b[0m                                 Traceback (most recent call last)",
      "Cell \u001b[0;32mIn[1], line 50\u001b[0m\n\u001b[1;32m     47\u001b[0m distances \u001b[38;5;241m=\u001b[39m []\n\u001b[1;32m     49\u001b[0m \u001b[38;5;66;03m# Compute distance for each document\u001b[39;00m\n\u001b[0;32m---> 50\u001b[0m \u001b[38;5;28;01mfor\u001b[39;00m emb \u001b[38;5;129;01min\u001b[39;00m \u001b[43membeddings\u001b[49m:  \u001b[38;5;66;03m# Each 'emb' corresponds to a document's embedding\u001b[39;00m\n\u001b[1;32m     51\u001b[0m     \u001b[38;5;66;03m# Calculate distance between the keyword embeddings and the document's embedding\u001b[39;00m\n\u001b[1;32m     52\u001b[0m     similarity1 \u001b[38;5;241m=\u001b[39m cosine_similarity(embedding1, emb\u001b[38;5;241m.\u001b[39mreshape(\u001b[38;5;241m1\u001b[39m, \u001b[38;5;241m-\u001b[39m\u001b[38;5;241m1\u001b[39m))[\u001b[38;5;241m0\u001b[39m][\u001b[38;5;241m0\u001b[39m]  \u001b[38;5;66;03m# Distance to keyword1\u001b[39;00m\n\u001b[1;32m     53\u001b[0m     similarity2 \u001b[38;5;241m=\u001b[39m cosine_similarity(embedding2, emb\u001b[38;5;241m.\u001b[39mreshape(\u001b[38;5;241m1\u001b[39m, \u001b[38;5;241m-\u001b[39m\u001b[38;5;241m1\u001b[39m))[\u001b[38;5;241m0\u001b[39m][\u001b[38;5;241m0\u001b[39m]  \u001b[38;5;66;03m# Distance to keyword2\u001b[39;00m\n",
      "\u001b[0;31mNameError\u001b[0m: name 'embeddings' is not defined"
     ]
    }
   ],
   "source": [
    "\n",
    "import numpy as np\n",
    "import pandas as pd\n",
    "import os\n",
    "import time\n",
    "import spacy \n",
    "import scipy\n",
    "from spacy import displacy\n",
    "import gensim.downloader as api\n",
    "from sklearn.metrics.pairwise import cosine_similarity\n",
    "\n",
    "\n",
    "# Load embeddings\n",
    "glove = api.load(\"glove-wiki-gigaword-100\")\n",
    "\n",
    "\n",
    "# Load the input \n",
    "df = pd.read_csv('~/Downloads/liwc_meta.csv')\n",
    "\n",
    "from sklearn.metrics.pairwise import cosine_similarity\n",
    "\n",
    "# Define keyword pairs\n",
    "keyword_pairs = [\n",
    "    (\"sovereignty\", \"territory\"),\n",
    "    (\"sovereignty\", \"responsibility\"),\n",
    "    (\"sovereignty\", \"intervene\"),\n",
    "    (\"sovereignty\", \"interfere\"),\n",
    "    (\"sovereignty\", \"non-intervention\"),\n",
    "    (\"sovereignty\", \"non-interference\"),\n",
    "    (\"sovereignty\", \"intervention\"),\n",
    "    (\"sovereignty\", \"interference\"),\n",
    "    (\"sovereignty\", \"colonial\"),\n",
    "    (\"sovereignty\", \"westphalia\"),\n",
    "    (\"libersovereigntyal\", \"liberal\")\n",
    "]\n",
    "\n",
    "\n",
    "# Create a new DataFrame to hold the distances\n",
    "if keyword_pairs:\n",
    "    for keyword1, keyword2 in keyword_pairs:\n",
    "        # Check if both keywords exist in GloVe\n",
    "        if keyword1 in glove.key_to_index and keyword2 in glove.key_to_index:\n",
    "            # Get embeddings for the keywords\n",
    "            embedding1 = glove[keyword1].reshape(1, -1)\n",
    "            embedding2 = glove[keyword2].reshape(1, -1)\n",
    "\n",
    "            # Create a new list to hold the distances for this pair\n",
    "            distances = []\n",
    "\n",
    "            # Compute distance for each document\n",
    "            for emb in embeddings:  # Each 'emb' corresponds to a document's embedding\n",
    "                # Calculate distance between the keyword embeddings and the document's embedding\n",
    "                similarity1 = cosine_similarity(embedding1, emb.reshape(1, -1))[0][0]  # Distance to keyword1\n",
    "                similarity2 = cosine_similarity(embedding2, emb.reshape(1, -1))[0][0]  # Distance to keyword2\n",
    "                \n",
    "                # Average distance to keywords (or however you want to combine them)\n",
    "                distance = (1 - similarity1 + 1 - similarity2) / 2\n",
    "                distances.append(distance)  # Store distance for this document\n",
    "\n",
    "            # Append distances as a new column to the original DataFrame\n",
    "            df[f'distance_{keyword1}_{keyword2}'] = distances\n",
    "\n",
    "    # Save the updated DataFrame to a new CSV file\n",
    "    output_folder = \"../../../output/embedding_glove/\"\n",
    "    os.makedirs(output_folder, exist_ok=True)\n",
    "    output_path = os.path.join(output_folder, \"liwc_meta_with_keyword_distances_May2025.csv\")\n",
    "    df.to_csv(output_path, index=False)\n",
    "\n",
    "    print(f\"Distances between keywords computed and saved successfully in '{output_path}'.\")\n",
    "else:\n",
    "    print(\"One or more keywords are not in the vocabulary.\")\n"
   ]
  },
  {
   "cell_type": "code",
   "execution_count": null,
   "metadata": {},
   "outputs": [],
   "source": []
  }
 ],
 "metadata": {
  "kernelspec": {
   "display_name": "Python 3",
   "language": "python",
   "name": "python3"
  },
  "language_info": {
   "codemirror_mode": {
    "name": "ipython",
    "version": 3
   },
   "file_extension": ".py",
   "mimetype": "text/x-python",
   "name": "python",
   "nbconvert_exporter": "python",
   "pygments_lexer": "ipython3",
   "version": "3.9.15"
  }
 },
 "nbformat": 4,
 "nbformat_minor": 2
}
