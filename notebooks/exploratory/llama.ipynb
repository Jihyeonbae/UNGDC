{
 "cells": [
  {
   "cell_type": "markdown",
   "id": "ab3c2eb5-65f3-4bdd-9629-b349a6feb1a2",
   "metadata": {},
   "source": [
    "# Term extraction using LlamaIndex"
   ]
  },
  {
   "cell_type": "code",
   "execution_count": 3,
   "id": "70e8f0c8-cbb8-49b2-a8bf-649f8f486ca8",
   "metadata": {
    "tags": []
   },
   "outputs": [
    {
     "ename": "TypeError",
     "evalue": "['I consider it a great honour and privilege to share with you the opportunities and responsibilitie has type list, but expected one of: bytes, unicode",
     "output_type": "error",
     "traceback": [
      "\u001b[0;31m---------------------------------------------------------------------------\u001b[0m",
      "\u001b[0;31mTypeError\u001b[0m                                 Traceback (most recent call last)",
      "Cell \u001b[0;32mIn[3], line 16\u001b[0m\n\u001b[1;32m     12\u001b[0m timestamps \u001b[38;5;241m=\u001b[39m df\u001b[38;5;241m.\u001b[39myear\u001b[38;5;241m.\u001b[39mto_list()\n\u001b[1;32m     13\u001b[0m texts \u001b[38;5;241m=\u001b[39m df\u001b[38;5;241m.\u001b[39mtext\u001b[38;5;241m.\u001b[39mto_list()\n\u001b[0;32m---> 16\u001b[0m document_text \u001b[38;5;241m=\u001b[39m st\u001b[38;5;241m.\u001b[39mtext_area(texts)\n\u001b[1;32m     17\u001b[0m \u001b[38;5;28;01mif\u001b[39;00m st\u001b[38;5;241m.\u001b[39mbutton(\u001b[38;5;124m\"\u001b[39m\u001b[38;5;124mExtract Terms and Definitions\u001b[39m\u001b[38;5;124m\"\u001b[39m) \u001b[38;5;129;01mand\u001b[39;00m document_text:\n\u001b[1;32m     18\u001b[0m     \u001b[38;5;28;01mwith\u001b[39;00m st\u001b[38;5;241m.\u001b[39mspinner(\u001b[38;5;124m\"\u001b[39m\u001b[38;5;124mExtracting...\u001b[39m\u001b[38;5;124m\"\u001b[39m):\n",
      "File \u001b[0;32m~/anaconda3/lib/python3.11/site-packages/streamlit/runtime/metrics_util.py:356\u001b[0m, in \u001b[0;36mgather_metrics.<locals>.wrapped_func\u001b[0;34m(*args, **kwargs)\u001b[0m\n\u001b[1;32m    354\u001b[0m         _LOGGER\u001b[38;5;241m.\u001b[39mdebug(\u001b[38;5;124m\"\u001b[39m\u001b[38;5;124mFailed to collect command telemetry\u001b[39m\u001b[38;5;124m\"\u001b[39m, exc_info\u001b[38;5;241m=\u001b[39mex)\n\u001b[1;32m    355\u001b[0m \u001b[38;5;28;01mtry\u001b[39;00m:\n\u001b[0;32m--> 356\u001b[0m     result \u001b[38;5;241m=\u001b[39m non_optional_func(\u001b[38;5;241m*\u001b[39margs, \u001b[38;5;241m*\u001b[39m\u001b[38;5;241m*\u001b[39mkwargs)\n\u001b[1;32m    357\u001b[0m \u001b[38;5;28;01mfinally\u001b[39;00m:\n\u001b[1;32m    358\u001b[0m     \u001b[38;5;66;03m# Activate tracking again if command executes without any exceptions\u001b[39;00m\n\u001b[1;32m    359\u001b[0m     \u001b[38;5;28;01mif\u001b[39;00m ctx:\n",
      "File \u001b[0;32m~/anaconda3/lib/python3.11/site-packages/streamlit/elements/text_widgets.py:374\u001b[0m, in \u001b[0;36mTextWidgetsMixin.text_area\u001b[0;34m(self, label, value, height, max_chars, key, help, on_change, args, kwargs, placeholder, disabled, label_visibility)\u001b[0m\n\u001b[1;32m    291\u001b[0m \u001b[38;5;250m\u001b[39m\u001b[38;5;124mr\u001b[39m\u001b[38;5;124;03m\"\"\"Display a multi-line text input widget.\u001b[39;00m\n\u001b[1;32m    292\u001b[0m \n\u001b[1;32m    293\u001b[0m \u001b[38;5;124;03mParameters\u001b[39;00m\n\u001b[0;32m   (...)\u001b[0m\n\u001b[1;32m    371\u001b[0m \n\u001b[1;32m    372\u001b[0m \u001b[38;5;124;03m\"\"\"\u001b[39;00m\n\u001b[1;32m    373\u001b[0m ctx \u001b[38;5;241m=\u001b[39m get_script_run_ctx()\n\u001b[0;32m--> 374\u001b[0m \u001b[38;5;28;01mreturn\u001b[39;00m \u001b[38;5;28mself\u001b[39m\u001b[38;5;241m.\u001b[39m_text_area(\n\u001b[1;32m    375\u001b[0m     label\u001b[38;5;241m=\u001b[39mlabel,\n\u001b[1;32m    376\u001b[0m     value\u001b[38;5;241m=\u001b[39mvalue,\n\u001b[1;32m    377\u001b[0m     height\u001b[38;5;241m=\u001b[39mheight,\n\u001b[1;32m    378\u001b[0m     max_chars\u001b[38;5;241m=\u001b[39mmax_chars,\n\u001b[1;32m    379\u001b[0m     key\u001b[38;5;241m=\u001b[39mkey,\n\u001b[1;32m    380\u001b[0m     help\u001b[38;5;241m=\u001b[39mhelp,\n\u001b[1;32m    381\u001b[0m     on_change\u001b[38;5;241m=\u001b[39mon_change,\n\u001b[1;32m    382\u001b[0m     args\u001b[38;5;241m=\u001b[39margs,\n\u001b[1;32m    383\u001b[0m     kwargs\u001b[38;5;241m=\u001b[39mkwargs,\n\u001b[1;32m    384\u001b[0m     placeholder\u001b[38;5;241m=\u001b[39mplaceholder,\n\u001b[1;32m    385\u001b[0m     disabled\u001b[38;5;241m=\u001b[39mdisabled,\n\u001b[1;32m    386\u001b[0m     label_visibility\u001b[38;5;241m=\u001b[39mlabel_visibility,\n\u001b[1;32m    387\u001b[0m     ctx\u001b[38;5;241m=\u001b[39mctx,\n\u001b[1;32m    388\u001b[0m )\n",
      "File \u001b[0;32m~/anaconda3/lib/python3.11/site-packages/streamlit/elements/text_widgets.py:414\u001b[0m, in \u001b[0;36mTextWidgetsMixin._text_area\u001b[0;34m(self, label, value, height, max_chars, key, help, on_change, args, kwargs, placeholder, disabled, label_visibility, ctx)\u001b[0m\n\u001b[1;32m    411\u001b[0m maybe_raise_label_warnings(label, label_visibility)\n\u001b[1;32m    413\u001b[0m text_area_proto \u001b[38;5;241m=\u001b[39m TextAreaProto()\n\u001b[0;32m--> 414\u001b[0m text_area_proto\u001b[38;5;241m.\u001b[39mlabel \u001b[38;5;241m=\u001b[39m label\n\u001b[1;32m    415\u001b[0m text_area_proto\u001b[38;5;241m.\u001b[39mdefault \u001b[38;5;241m=\u001b[39m \u001b[38;5;28mstr\u001b[39m(value)\n\u001b[1;32m    416\u001b[0m text_area_proto\u001b[38;5;241m.\u001b[39mform_id \u001b[38;5;241m=\u001b[39m current_form_id(\u001b[38;5;28mself\u001b[39m\u001b[38;5;241m.\u001b[39mdg)\n",
      "\u001b[0;31mTypeError\u001b[0m: ['I consider it a great honour and privilege to share with you the opportunities and responsibilitie has type list, but expected one of: bytes, unicode"
     ]
    }
   ],
   "source": [
    "import streamlit as st\n",
    "import re\n",
    "import pandas as pd\n",
    "from datetime import datetime\n",
    "import nltk\n",
    "\n",
    "st.title(\"🦙 Llama Index Term Extractor 🦙\")\n",
    "\n",
    "\n",
    "df = pd.read_csv('../../data/interim/cleaned.csv')\n",
    "# Filter\n",
    "timestamps = df.year.to_list()\n",
    "texts = df.text.to_list()\n",
    "\n",
    "\n",
    "document_text = st.text_area(texts)\n",
    "if st.button(\"Extract Terms and Definitions\") and document_text:\n",
    "    with st.spinner(\"Extracting...\"):\n",
    "        extracted_terms = document_text  # this is a placeholder!\n",
    "    st.write(extracted_terms)"
   ]
  }
 ],
 "metadata": {
  "kernelspec": {
   "display_name": "Python 3 (ipykernel)",
   "language": "python",
   "name": "python3"
  },
  "language_info": {
   "codemirror_mode": {
    "name": "ipython",
    "version": 3
   },
   "file_extension": ".py",
   "mimetype": "text/x-python",
   "name": "python",
   "nbconvert_exporter": "python",
   "pygments_lexer": "ipython3",
   "version": "3.11.5"
  }
 },
 "nbformat": 4,
 "nbformat_minor": 5
}
